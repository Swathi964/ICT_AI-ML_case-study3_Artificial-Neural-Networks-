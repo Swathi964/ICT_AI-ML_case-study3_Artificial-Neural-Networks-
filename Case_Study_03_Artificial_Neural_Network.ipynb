{
  "nbformat": 4,
  "nbformat_minor": 0,
  "metadata": {
    "colab": {
      "provenance": [],
      "authorship_tag": "ABX9TyO7DyPT6EAy93PG/deyENFe",
      "include_colab_link": true
    },
    "kernelspec": {
      "name": "python3",
      "display_name": "Python 3"
    },
    "language_info": {
      "name": "python"
    }
  },
  "cells": [
    {
      "cell_type": "markdown",
      "metadata": {
        "id": "view-in-github",
        "colab_type": "text"
      },
      "source": [
        "<a href=\"https://colab.research.google.com/github/Syamkrishna123/ICTK_ML_AI_ASSIGNMENTS_AND_CASE_STUDIES/blob/main/Case_Study_03_Artificial_Neural_Network.ipynb\" target=\"_parent\"><img src=\"https://colab.research.google.com/assets/colab-badge.svg\" alt=\"Open In Colab\"/></a>"
      ]
    },
    {
      "cell_type": "code",
      "execution_count": 1,
      "metadata": {
        "id": "hj-sROFTYRS2"
      },
      "outputs": [],
      "source": [
        "import pandas as pd\n",
        "import numpy as np"
      ]
    },
    {
      "cell_type": "code",
      "source": [
        "from google.colab import drive\n",
        "drive.mount('/content/drive')"
      ],
      "metadata": {
        "colab": {
          "base_uri": "https://localhost:8080/"
        },
        "id": "0XQYei82Y9lB",
        "outputId": "c407f7af-4748-48ed-d275-c5ac4dc91b17"
      },
      "execution_count": 2,
      "outputs": [
        {
          "output_type": "stream",
          "name": "stdout",
          "text": [
            "Drive already mounted at /content/drive; to attempt to forcibly remount, call drive.mount(\"/content/drive\", force_remount=True).\n"
          ]
        }
      ]
    },
    {
      "cell_type": "code",
      "source": [
        "df= pd.read_csv(\"/content/drive/MyDrive/Colab Notebooks/dataset/mobile_price_classification.csv\")\n",
        "df.head()"
      ],
      "metadata": {
        "colab": {
          "base_uri": "https://localhost:8080/",
          "height": 300
        },
        "id": "QK02MyrLY7lx",
        "outputId": "1041bf0d-fe9c-479b-83aa-ead48e6be34a"
      },
      "execution_count": 3,
      "outputs": [
        {
          "output_type": "execute_result",
          "data": {
            "text/plain": [
              "   battery_power  bluetooth  clock_speed  dual_sim  front_cam  4G  int_memory  \\\n",
              "0            842          0          2.2         0          1   0           7   \n",
              "1           1021          1          0.5         1          0   1          53   \n",
              "2            563          1          0.5         1          2   1          41   \n",
              "3            615          1          2.5         0          0   0          10   \n",
              "4           1821          1          1.2         0         13   1          44   \n",
              "\n",
              "   m_dep  mobile_wt  n_cores  ...  px_height  px_width   ram  sc_h  sc_w  \\\n",
              "0    0.6        188        2  ...         20       756  2549     9     7   \n",
              "1    0.7        136        3  ...        905      1988  2631    17     3   \n",
              "2    0.9        145        5  ...       1263      1716  2603    11     2   \n",
              "3    0.8        131        6  ...       1216      1786  2769    16     8   \n",
              "4    0.6        141        2  ...       1208      1212  1411     8     2   \n",
              "\n",
              "   talk_time  three_g  touch_screen  wifi  price_range  \n",
              "0         19        0             0     1            1  \n",
              "1          7        1             1     0            2  \n",
              "2          9        1             1     0            2  \n",
              "3         11        1             0     0            2  \n",
              "4         15        1             1     0            1  \n",
              "\n",
              "[5 rows x 21 columns]"
            ],
            "text/html": [
              "\n",
              "  <div id=\"df-cca957d8-b01c-4979-83d6-4753b0a517d8\">\n",
              "    <div class=\"colab-df-container\">\n",
              "      <div>\n",
              "<style scoped>\n",
              "    .dataframe tbody tr th:only-of-type {\n",
              "        vertical-align: middle;\n",
              "    }\n",
              "\n",
              "    .dataframe tbody tr th {\n",
              "        vertical-align: top;\n",
              "    }\n",
              "\n",
              "    .dataframe thead th {\n",
              "        text-align: right;\n",
              "    }\n",
              "</style>\n",
              "<table border=\"1\" class=\"dataframe\">\n",
              "  <thead>\n",
              "    <tr style=\"text-align: right;\">\n",
              "      <th></th>\n",
              "      <th>battery_power</th>\n",
              "      <th>bluetooth</th>\n",
              "      <th>clock_speed</th>\n",
              "      <th>dual_sim</th>\n",
              "      <th>front_cam</th>\n",
              "      <th>4G</th>\n",
              "      <th>int_memory</th>\n",
              "      <th>m_dep</th>\n",
              "      <th>mobile_wt</th>\n",
              "      <th>n_cores</th>\n",
              "      <th>...</th>\n",
              "      <th>px_height</th>\n",
              "      <th>px_width</th>\n",
              "      <th>ram</th>\n",
              "      <th>sc_h</th>\n",
              "      <th>sc_w</th>\n",
              "      <th>talk_time</th>\n",
              "      <th>three_g</th>\n",
              "      <th>touch_screen</th>\n",
              "      <th>wifi</th>\n",
              "      <th>price_range</th>\n",
              "    </tr>\n",
              "  </thead>\n",
              "  <tbody>\n",
              "    <tr>\n",
              "      <th>0</th>\n",
              "      <td>842</td>\n",
              "      <td>0</td>\n",
              "      <td>2.2</td>\n",
              "      <td>0</td>\n",
              "      <td>1</td>\n",
              "      <td>0</td>\n",
              "      <td>7</td>\n",
              "      <td>0.6</td>\n",
              "      <td>188</td>\n",
              "      <td>2</td>\n",
              "      <td>...</td>\n",
              "      <td>20</td>\n",
              "      <td>756</td>\n",
              "      <td>2549</td>\n",
              "      <td>9</td>\n",
              "      <td>7</td>\n",
              "      <td>19</td>\n",
              "      <td>0</td>\n",
              "      <td>0</td>\n",
              "      <td>1</td>\n",
              "      <td>1</td>\n",
              "    </tr>\n",
              "    <tr>\n",
              "      <th>1</th>\n",
              "      <td>1021</td>\n",
              "      <td>1</td>\n",
              "      <td>0.5</td>\n",
              "      <td>1</td>\n",
              "      <td>0</td>\n",
              "      <td>1</td>\n",
              "      <td>53</td>\n",
              "      <td>0.7</td>\n",
              "      <td>136</td>\n",
              "      <td>3</td>\n",
              "      <td>...</td>\n",
              "      <td>905</td>\n",
              "      <td>1988</td>\n",
              "      <td>2631</td>\n",
              "      <td>17</td>\n",
              "      <td>3</td>\n",
              "      <td>7</td>\n",
              "      <td>1</td>\n",
              "      <td>1</td>\n",
              "      <td>0</td>\n",
              "      <td>2</td>\n",
              "    </tr>\n",
              "    <tr>\n",
              "      <th>2</th>\n",
              "      <td>563</td>\n",
              "      <td>1</td>\n",
              "      <td>0.5</td>\n",
              "      <td>1</td>\n",
              "      <td>2</td>\n",
              "      <td>1</td>\n",
              "      <td>41</td>\n",
              "      <td>0.9</td>\n",
              "      <td>145</td>\n",
              "      <td>5</td>\n",
              "      <td>...</td>\n",
              "      <td>1263</td>\n",
              "      <td>1716</td>\n",
              "      <td>2603</td>\n",
              "      <td>11</td>\n",
              "      <td>2</td>\n",
              "      <td>9</td>\n",
              "      <td>1</td>\n",
              "      <td>1</td>\n",
              "      <td>0</td>\n",
              "      <td>2</td>\n",
              "    </tr>\n",
              "    <tr>\n",
              "      <th>3</th>\n",
              "      <td>615</td>\n",
              "      <td>1</td>\n",
              "      <td>2.5</td>\n",
              "      <td>0</td>\n",
              "      <td>0</td>\n",
              "      <td>0</td>\n",
              "      <td>10</td>\n",
              "      <td>0.8</td>\n",
              "      <td>131</td>\n",
              "      <td>6</td>\n",
              "      <td>...</td>\n",
              "      <td>1216</td>\n",
              "      <td>1786</td>\n",
              "      <td>2769</td>\n",
              "      <td>16</td>\n",
              "      <td>8</td>\n",
              "      <td>11</td>\n",
              "      <td>1</td>\n",
              "      <td>0</td>\n",
              "      <td>0</td>\n",
              "      <td>2</td>\n",
              "    </tr>\n",
              "    <tr>\n",
              "      <th>4</th>\n",
              "      <td>1821</td>\n",
              "      <td>1</td>\n",
              "      <td>1.2</td>\n",
              "      <td>0</td>\n",
              "      <td>13</td>\n",
              "      <td>1</td>\n",
              "      <td>44</td>\n",
              "      <td>0.6</td>\n",
              "      <td>141</td>\n",
              "      <td>2</td>\n",
              "      <td>...</td>\n",
              "      <td>1208</td>\n",
              "      <td>1212</td>\n",
              "      <td>1411</td>\n",
              "      <td>8</td>\n",
              "      <td>2</td>\n",
              "      <td>15</td>\n",
              "      <td>1</td>\n",
              "      <td>1</td>\n",
              "      <td>0</td>\n",
              "      <td>1</td>\n",
              "    </tr>\n",
              "  </tbody>\n",
              "</table>\n",
              "<p>5 rows × 21 columns</p>\n",
              "</div>\n",
              "      <button class=\"colab-df-convert\" onclick=\"convertToInteractive('df-cca957d8-b01c-4979-83d6-4753b0a517d8')\"\n",
              "              title=\"Convert this dataframe to an interactive table.\"\n",
              "              style=\"display:none;\">\n",
              "        \n",
              "  <svg xmlns=\"http://www.w3.org/2000/svg\" height=\"24px\"viewBox=\"0 0 24 24\"\n",
              "       width=\"24px\">\n",
              "    <path d=\"M0 0h24v24H0V0z\" fill=\"none\"/>\n",
              "    <path d=\"M18.56 5.44l.94 2.06.94-2.06 2.06-.94-2.06-.94-.94-2.06-.94 2.06-2.06.94zm-11 1L8.5 8.5l.94-2.06 2.06-.94-2.06-.94L8.5 2.5l-.94 2.06-2.06.94zm10 10l.94 2.06.94-2.06 2.06-.94-2.06-.94-.94-2.06-.94 2.06-2.06.94z\"/><path d=\"M17.41 7.96l-1.37-1.37c-.4-.4-.92-.59-1.43-.59-.52 0-1.04.2-1.43.59L10.3 9.45l-7.72 7.72c-.78.78-.78 2.05 0 2.83L4 21.41c.39.39.9.59 1.41.59.51 0 1.02-.2 1.41-.59l7.78-7.78 2.81-2.81c.8-.78.8-2.07 0-2.86zM5.41 20L4 18.59l7.72-7.72 1.47 1.35L5.41 20z\"/>\n",
              "  </svg>\n",
              "      </button>\n",
              "      \n",
              "  <style>\n",
              "    .colab-df-container {\n",
              "      display:flex;\n",
              "      flex-wrap:wrap;\n",
              "      gap: 12px;\n",
              "    }\n",
              "\n",
              "    .colab-df-convert {\n",
              "      background-color: #E8F0FE;\n",
              "      border: none;\n",
              "      border-radius: 50%;\n",
              "      cursor: pointer;\n",
              "      display: none;\n",
              "      fill: #1967D2;\n",
              "      height: 32px;\n",
              "      padding: 0 0 0 0;\n",
              "      width: 32px;\n",
              "    }\n",
              "\n",
              "    .colab-df-convert:hover {\n",
              "      background-color: #E2EBFA;\n",
              "      box-shadow: 0px 1px 2px rgba(60, 64, 67, 0.3), 0px 1px 3px 1px rgba(60, 64, 67, 0.15);\n",
              "      fill: #174EA6;\n",
              "    }\n",
              "\n",
              "    [theme=dark] .colab-df-convert {\n",
              "      background-color: #3B4455;\n",
              "      fill: #D2E3FC;\n",
              "    }\n",
              "\n",
              "    [theme=dark] .colab-df-convert:hover {\n",
              "      background-color: #434B5C;\n",
              "      box-shadow: 0px 1px 3px 1px rgba(0, 0, 0, 0.15);\n",
              "      filter: drop-shadow(0px 1px 2px rgba(0, 0, 0, 0.3));\n",
              "      fill: #FFFFFF;\n",
              "    }\n",
              "  </style>\n",
              "\n",
              "      <script>\n",
              "        const buttonEl =\n",
              "          document.querySelector('#df-cca957d8-b01c-4979-83d6-4753b0a517d8 button.colab-df-convert');\n",
              "        buttonEl.style.display =\n",
              "          google.colab.kernel.accessAllowed ? 'block' : 'none';\n",
              "\n",
              "        async function convertToInteractive(key) {\n",
              "          const element = document.querySelector('#df-cca957d8-b01c-4979-83d6-4753b0a517d8');\n",
              "          const dataTable =\n",
              "            await google.colab.kernel.invokeFunction('convertToInteractive',\n",
              "                                                     [key], {});\n",
              "          if (!dataTable) return;\n",
              "\n",
              "          const docLinkHtml = 'Like what you see? Visit the ' +\n",
              "            '<a target=\"_blank\" href=https://colab.research.google.com/notebooks/data_table.ipynb>data table notebook</a>'\n",
              "            + ' to learn more about interactive tables.';\n",
              "          element.innerHTML = '';\n",
              "          dataTable['output_type'] = 'display_data';\n",
              "          await google.colab.output.renderOutput(dataTable, element);\n",
              "          const docLink = document.createElement('div');\n",
              "          docLink.innerHTML = docLinkHtml;\n",
              "          element.appendChild(docLink);\n",
              "        }\n",
              "      </script>\n",
              "    </div>\n",
              "  </div>\n",
              "  "
            ]
          },
          "metadata": {},
          "execution_count": 3
        }
      ]
    },
    {
      "cell_type": "code",
      "source": [
        "df.shape"
      ],
      "metadata": {
        "colab": {
          "base_uri": "https://localhost:8080/"
        },
        "id": "iH4X7lGtZ9c_",
        "outputId": "f6f5dcc9-5280-4ae1-d606-0fffe940e50b"
      },
      "execution_count": 4,
      "outputs": [
        {
          "output_type": "execute_result",
          "data": {
            "text/plain": [
              "(2000, 21)"
            ]
          },
          "metadata": {},
          "execution_count": 4
        }
      ]
    },
    {
      "cell_type": "code",
      "source": [
        "df.info()"
      ],
      "metadata": {
        "colab": {
          "base_uri": "https://localhost:8080/"
        },
        "id": "Qd18w_pbZ_ju",
        "outputId": "ebe61ffe-836e-4555-d161-4e9ae260f44e"
      },
      "execution_count": 5,
      "outputs": [
        {
          "output_type": "stream",
          "name": "stdout",
          "text": [
            "<class 'pandas.core.frame.DataFrame'>\n",
            "RangeIndex: 2000 entries, 0 to 1999\n",
            "Data columns (total 21 columns):\n",
            " #   Column          Non-Null Count  Dtype  \n",
            "---  ------          --------------  -----  \n",
            " 0   battery_power   2000 non-null   int64  \n",
            " 1   bluetooth       2000 non-null   int64  \n",
            " 2   clock_speed     2000 non-null   float64\n",
            " 3   dual_sim        2000 non-null   int64  \n",
            " 4   front_cam       2000 non-null   int64  \n",
            " 5   4G              2000 non-null   int64  \n",
            " 6   int_memory      2000 non-null   int64  \n",
            " 7   m_dep           2000 non-null   float64\n",
            " 8   mobile_wt       2000 non-null   int64  \n",
            " 9   n_cores         2000 non-null   int64  \n",
            " 10  primary_camera  2000 non-null   int64  \n",
            " 11  px_height       2000 non-null   int64  \n",
            " 12  px_width        2000 non-null   int64  \n",
            " 13  ram             2000 non-null   int64  \n",
            " 14  sc_h            2000 non-null   int64  \n",
            " 15  sc_w            2000 non-null   int64  \n",
            " 16  talk_time       2000 non-null   int64  \n",
            " 17  three_g         2000 non-null   int64  \n",
            " 18  touch_screen    2000 non-null   int64  \n",
            " 19  wifi            2000 non-null   int64  \n",
            " 20  price_range     2000 non-null   int64  \n",
            "dtypes: float64(2), int64(19)\n",
            "memory usage: 328.2 KB\n"
          ]
        }
      ]
    },
    {
      "cell_type": "code",
      "source": [
        "df.describe()"
      ],
      "metadata": {
        "colab": {
          "base_uri": "https://localhost:8080/",
          "height": 394
        },
        "id": "1_wKKKcIaA5W",
        "outputId": "92220490-a4f0-4792-bf11-b66cc50b0b0e"
      },
      "execution_count": 6,
      "outputs": [
        {
          "output_type": "execute_result",
          "data": {
            "text/plain": [
              "       battery_power  bluetooth  clock_speed     dual_sim    front_cam  \\\n",
              "count    2000.000000  2000.0000  2000.000000  2000.000000  2000.000000   \n",
              "mean     1238.518500     0.4950     1.522250     0.509500     4.309500   \n",
              "std       439.418206     0.5001     0.816004     0.500035     4.341444   \n",
              "min       501.000000     0.0000     0.500000     0.000000     0.000000   \n",
              "25%       851.750000     0.0000     0.700000     0.000000     1.000000   \n",
              "50%      1226.000000     0.0000     1.500000     1.000000     3.000000   \n",
              "75%      1615.250000     1.0000     2.200000     1.000000     7.000000   \n",
              "max      1998.000000     1.0000     3.000000     1.000000    19.000000   \n",
              "\n",
              "                4G   int_memory        m_dep    mobile_wt      n_cores  ...  \\\n",
              "count  2000.000000  2000.000000  2000.000000  2000.000000  2000.000000  ...   \n",
              "mean      0.521500    32.046500     0.501750   140.249000     4.520500  ...   \n",
              "std       0.499662    18.145715     0.288416    35.399655     2.287837  ...   \n",
              "min       0.000000     2.000000     0.100000    80.000000     1.000000  ...   \n",
              "25%       0.000000    16.000000     0.200000   109.000000     3.000000  ...   \n",
              "50%       1.000000    32.000000     0.500000   141.000000     4.000000  ...   \n",
              "75%       1.000000    48.000000     0.800000   170.000000     7.000000  ...   \n",
              "max       1.000000    64.000000     1.000000   200.000000     8.000000  ...   \n",
              "\n",
              "         px_height     px_width          ram         sc_h         sc_w  \\\n",
              "count  2000.000000  2000.000000  2000.000000  2000.000000  2000.000000   \n",
              "mean    645.108000  1251.515500  2124.213000    12.306500     5.767000   \n",
              "std     443.780811   432.199447  1084.732044     4.213245     4.356398   \n",
              "min       0.000000   500.000000   256.000000     5.000000     0.000000   \n",
              "25%     282.750000   874.750000  1207.500000     9.000000     2.000000   \n",
              "50%     564.000000  1247.000000  2146.500000    12.000000     5.000000   \n",
              "75%     947.250000  1633.000000  3064.500000    16.000000     9.000000   \n",
              "max    1960.000000  1998.000000  3998.000000    19.000000    18.000000   \n",
              "\n",
              "         talk_time      three_g  touch_screen         wifi  price_range  \n",
              "count  2000.000000  2000.000000   2000.000000  2000.000000  2000.000000  \n",
              "mean     11.011000     0.761500      0.503000     0.507000     1.500000  \n",
              "std       5.463955     0.426273      0.500116     0.500076     1.118314  \n",
              "min       2.000000     0.000000      0.000000     0.000000     0.000000  \n",
              "25%       6.000000     1.000000      0.000000     0.000000     0.750000  \n",
              "50%      11.000000     1.000000      1.000000     1.000000     1.500000  \n",
              "75%      16.000000     1.000000      1.000000     1.000000     2.250000  \n",
              "max      20.000000     1.000000      1.000000     1.000000     3.000000  \n",
              "\n",
              "[8 rows x 21 columns]"
            ],
            "text/html": [
              "\n",
              "  <div id=\"df-b7ced68d-8168-47c1-866e-357c361e5ef6\">\n",
              "    <div class=\"colab-df-container\">\n",
              "      <div>\n",
              "<style scoped>\n",
              "    .dataframe tbody tr th:only-of-type {\n",
              "        vertical-align: middle;\n",
              "    }\n",
              "\n",
              "    .dataframe tbody tr th {\n",
              "        vertical-align: top;\n",
              "    }\n",
              "\n",
              "    .dataframe thead th {\n",
              "        text-align: right;\n",
              "    }\n",
              "</style>\n",
              "<table border=\"1\" class=\"dataframe\">\n",
              "  <thead>\n",
              "    <tr style=\"text-align: right;\">\n",
              "      <th></th>\n",
              "      <th>battery_power</th>\n",
              "      <th>bluetooth</th>\n",
              "      <th>clock_speed</th>\n",
              "      <th>dual_sim</th>\n",
              "      <th>front_cam</th>\n",
              "      <th>4G</th>\n",
              "      <th>int_memory</th>\n",
              "      <th>m_dep</th>\n",
              "      <th>mobile_wt</th>\n",
              "      <th>n_cores</th>\n",
              "      <th>...</th>\n",
              "      <th>px_height</th>\n",
              "      <th>px_width</th>\n",
              "      <th>ram</th>\n",
              "      <th>sc_h</th>\n",
              "      <th>sc_w</th>\n",
              "      <th>talk_time</th>\n",
              "      <th>three_g</th>\n",
              "      <th>touch_screen</th>\n",
              "      <th>wifi</th>\n",
              "      <th>price_range</th>\n",
              "    </tr>\n",
              "  </thead>\n",
              "  <tbody>\n",
              "    <tr>\n",
              "      <th>count</th>\n",
              "      <td>2000.000000</td>\n",
              "      <td>2000.0000</td>\n",
              "      <td>2000.000000</td>\n",
              "      <td>2000.000000</td>\n",
              "      <td>2000.000000</td>\n",
              "      <td>2000.000000</td>\n",
              "      <td>2000.000000</td>\n",
              "      <td>2000.000000</td>\n",
              "      <td>2000.000000</td>\n",
              "      <td>2000.000000</td>\n",
              "      <td>...</td>\n",
              "      <td>2000.000000</td>\n",
              "      <td>2000.000000</td>\n",
              "      <td>2000.000000</td>\n",
              "      <td>2000.000000</td>\n",
              "      <td>2000.000000</td>\n",
              "      <td>2000.000000</td>\n",
              "      <td>2000.000000</td>\n",
              "      <td>2000.000000</td>\n",
              "      <td>2000.000000</td>\n",
              "      <td>2000.000000</td>\n",
              "    </tr>\n",
              "    <tr>\n",
              "      <th>mean</th>\n",
              "      <td>1238.518500</td>\n",
              "      <td>0.4950</td>\n",
              "      <td>1.522250</td>\n",
              "      <td>0.509500</td>\n",
              "      <td>4.309500</td>\n",
              "      <td>0.521500</td>\n",
              "      <td>32.046500</td>\n",
              "      <td>0.501750</td>\n",
              "      <td>140.249000</td>\n",
              "      <td>4.520500</td>\n",
              "      <td>...</td>\n",
              "      <td>645.108000</td>\n",
              "      <td>1251.515500</td>\n",
              "      <td>2124.213000</td>\n",
              "      <td>12.306500</td>\n",
              "      <td>5.767000</td>\n",
              "      <td>11.011000</td>\n",
              "      <td>0.761500</td>\n",
              "      <td>0.503000</td>\n",
              "      <td>0.507000</td>\n",
              "      <td>1.500000</td>\n",
              "    </tr>\n",
              "    <tr>\n",
              "      <th>std</th>\n",
              "      <td>439.418206</td>\n",
              "      <td>0.5001</td>\n",
              "      <td>0.816004</td>\n",
              "      <td>0.500035</td>\n",
              "      <td>4.341444</td>\n",
              "      <td>0.499662</td>\n",
              "      <td>18.145715</td>\n",
              "      <td>0.288416</td>\n",
              "      <td>35.399655</td>\n",
              "      <td>2.287837</td>\n",
              "      <td>...</td>\n",
              "      <td>443.780811</td>\n",
              "      <td>432.199447</td>\n",
              "      <td>1084.732044</td>\n",
              "      <td>4.213245</td>\n",
              "      <td>4.356398</td>\n",
              "      <td>5.463955</td>\n",
              "      <td>0.426273</td>\n",
              "      <td>0.500116</td>\n",
              "      <td>0.500076</td>\n",
              "      <td>1.118314</td>\n",
              "    </tr>\n",
              "    <tr>\n",
              "      <th>min</th>\n",
              "      <td>501.000000</td>\n",
              "      <td>0.0000</td>\n",
              "      <td>0.500000</td>\n",
              "      <td>0.000000</td>\n",
              "      <td>0.000000</td>\n",
              "      <td>0.000000</td>\n",
              "      <td>2.000000</td>\n",
              "      <td>0.100000</td>\n",
              "      <td>80.000000</td>\n",
              "      <td>1.000000</td>\n",
              "      <td>...</td>\n",
              "      <td>0.000000</td>\n",
              "      <td>500.000000</td>\n",
              "      <td>256.000000</td>\n",
              "      <td>5.000000</td>\n",
              "      <td>0.000000</td>\n",
              "      <td>2.000000</td>\n",
              "      <td>0.000000</td>\n",
              "      <td>0.000000</td>\n",
              "      <td>0.000000</td>\n",
              "      <td>0.000000</td>\n",
              "    </tr>\n",
              "    <tr>\n",
              "      <th>25%</th>\n",
              "      <td>851.750000</td>\n",
              "      <td>0.0000</td>\n",
              "      <td>0.700000</td>\n",
              "      <td>0.000000</td>\n",
              "      <td>1.000000</td>\n",
              "      <td>0.000000</td>\n",
              "      <td>16.000000</td>\n",
              "      <td>0.200000</td>\n",
              "      <td>109.000000</td>\n",
              "      <td>3.000000</td>\n",
              "      <td>...</td>\n",
              "      <td>282.750000</td>\n",
              "      <td>874.750000</td>\n",
              "      <td>1207.500000</td>\n",
              "      <td>9.000000</td>\n",
              "      <td>2.000000</td>\n",
              "      <td>6.000000</td>\n",
              "      <td>1.000000</td>\n",
              "      <td>0.000000</td>\n",
              "      <td>0.000000</td>\n",
              "      <td>0.750000</td>\n",
              "    </tr>\n",
              "    <tr>\n",
              "      <th>50%</th>\n",
              "      <td>1226.000000</td>\n",
              "      <td>0.0000</td>\n",
              "      <td>1.500000</td>\n",
              "      <td>1.000000</td>\n",
              "      <td>3.000000</td>\n",
              "      <td>1.000000</td>\n",
              "      <td>32.000000</td>\n",
              "      <td>0.500000</td>\n",
              "      <td>141.000000</td>\n",
              "      <td>4.000000</td>\n",
              "      <td>...</td>\n",
              "      <td>564.000000</td>\n",
              "      <td>1247.000000</td>\n",
              "      <td>2146.500000</td>\n",
              "      <td>12.000000</td>\n",
              "      <td>5.000000</td>\n",
              "      <td>11.000000</td>\n",
              "      <td>1.000000</td>\n",
              "      <td>1.000000</td>\n",
              "      <td>1.000000</td>\n",
              "      <td>1.500000</td>\n",
              "    </tr>\n",
              "    <tr>\n",
              "      <th>75%</th>\n",
              "      <td>1615.250000</td>\n",
              "      <td>1.0000</td>\n",
              "      <td>2.200000</td>\n",
              "      <td>1.000000</td>\n",
              "      <td>7.000000</td>\n",
              "      <td>1.000000</td>\n",
              "      <td>48.000000</td>\n",
              "      <td>0.800000</td>\n",
              "      <td>170.000000</td>\n",
              "      <td>7.000000</td>\n",
              "      <td>...</td>\n",
              "      <td>947.250000</td>\n",
              "      <td>1633.000000</td>\n",
              "      <td>3064.500000</td>\n",
              "      <td>16.000000</td>\n",
              "      <td>9.000000</td>\n",
              "      <td>16.000000</td>\n",
              "      <td>1.000000</td>\n",
              "      <td>1.000000</td>\n",
              "      <td>1.000000</td>\n",
              "      <td>2.250000</td>\n",
              "    </tr>\n",
              "    <tr>\n",
              "      <th>max</th>\n",
              "      <td>1998.000000</td>\n",
              "      <td>1.0000</td>\n",
              "      <td>3.000000</td>\n",
              "      <td>1.000000</td>\n",
              "      <td>19.000000</td>\n",
              "      <td>1.000000</td>\n",
              "      <td>64.000000</td>\n",
              "      <td>1.000000</td>\n",
              "      <td>200.000000</td>\n",
              "      <td>8.000000</td>\n",
              "      <td>...</td>\n",
              "      <td>1960.000000</td>\n",
              "      <td>1998.000000</td>\n",
              "      <td>3998.000000</td>\n",
              "      <td>19.000000</td>\n",
              "      <td>18.000000</td>\n",
              "      <td>20.000000</td>\n",
              "      <td>1.000000</td>\n",
              "      <td>1.000000</td>\n",
              "      <td>1.000000</td>\n",
              "      <td>3.000000</td>\n",
              "    </tr>\n",
              "  </tbody>\n",
              "</table>\n",
              "<p>8 rows × 21 columns</p>\n",
              "</div>\n",
              "      <button class=\"colab-df-convert\" onclick=\"convertToInteractive('df-b7ced68d-8168-47c1-866e-357c361e5ef6')\"\n",
              "              title=\"Convert this dataframe to an interactive table.\"\n",
              "              style=\"display:none;\">\n",
              "        \n",
              "  <svg xmlns=\"http://www.w3.org/2000/svg\" height=\"24px\"viewBox=\"0 0 24 24\"\n",
              "       width=\"24px\">\n",
              "    <path d=\"M0 0h24v24H0V0z\" fill=\"none\"/>\n",
              "    <path d=\"M18.56 5.44l.94 2.06.94-2.06 2.06-.94-2.06-.94-.94-2.06-.94 2.06-2.06.94zm-11 1L8.5 8.5l.94-2.06 2.06-.94-2.06-.94L8.5 2.5l-.94 2.06-2.06.94zm10 10l.94 2.06.94-2.06 2.06-.94-2.06-.94-.94-2.06-.94 2.06-2.06.94z\"/><path d=\"M17.41 7.96l-1.37-1.37c-.4-.4-.92-.59-1.43-.59-.52 0-1.04.2-1.43.59L10.3 9.45l-7.72 7.72c-.78.78-.78 2.05 0 2.83L4 21.41c.39.39.9.59 1.41.59.51 0 1.02-.2 1.41-.59l7.78-7.78 2.81-2.81c.8-.78.8-2.07 0-2.86zM5.41 20L4 18.59l7.72-7.72 1.47 1.35L5.41 20z\"/>\n",
              "  </svg>\n",
              "      </button>\n",
              "      \n",
              "  <style>\n",
              "    .colab-df-container {\n",
              "      display:flex;\n",
              "      flex-wrap:wrap;\n",
              "      gap: 12px;\n",
              "    }\n",
              "\n",
              "    .colab-df-convert {\n",
              "      background-color: #E8F0FE;\n",
              "      border: none;\n",
              "      border-radius: 50%;\n",
              "      cursor: pointer;\n",
              "      display: none;\n",
              "      fill: #1967D2;\n",
              "      height: 32px;\n",
              "      padding: 0 0 0 0;\n",
              "      width: 32px;\n",
              "    }\n",
              "\n",
              "    .colab-df-convert:hover {\n",
              "      background-color: #E2EBFA;\n",
              "      box-shadow: 0px 1px 2px rgba(60, 64, 67, 0.3), 0px 1px 3px 1px rgba(60, 64, 67, 0.15);\n",
              "      fill: #174EA6;\n",
              "    }\n",
              "\n",
              "    [theme=dark] .colab-df-convert {\n",
              "      background-color: #3B4455;\n",
              "      fill: #D2E3FC;\n",
              "    }\n",
              "\n",
              "    [theme=dark] .colab-df-convert:hover {\n",
              "      background-color: #434B5C;\n",
              "      box-shadow: 0px 1px 3px 1px rgba(0, 0, 0, 0.15);\n",
              "      filter: drop-shadow(0px 1px 2px rgba(0, 0, 0, 0.3));\n",
              "      fill: #FFFFFF;\n",
              "    }\n",
              "  </style>\n",
              "\n",
              "      <script>\n",
              "        const buttonEl =\n",
              "          document.querySelector('#df-b7ced68d-8168-47c1-866e-357c361e5ef6 button.colab-df-convert');\n",
              "        buttonEl.style.display =\n",
              "          google.colab.kernel.accessAllowed ? 'block' : 'none';\n",
              "\n",
              "        async function convertToInteractive(key) {\n",
              "          const element = document.querySelector('#df-b7ced68d-8168-47c1-866e-357c361e5ef6');\n",
              "          const dataTable =\n",
              "            await google.colab.kernel.invokeFunction('convertToInteractive',\n",
              "                                                     [key], {});\n",
              "          if (!dataTable) return;\n",
              "\n",
              "          const docLinkHtml = 'Like what you see? Visit the ' +\n",
              "            '<a target=\"_blank\" href=https://colab.research.google.com/notebooks/data_table.ipynb>data table notebook</a>'\n",
              "            + ' to learn more about interactive tables.';\n",
              "          element.innerHTML = '';\n",
              "          dataTable['output_type'] = 'display_data';\n",
              "          await google.colab.output.renderOutput(dataTable, element);\n",
              "          const docLink = document.createElement('div');\n",
              "          docLink.innerHTML = docLinkHtml;\n",
              "          element.appendChild(docLink);\n",
              "        }\n",
              "      </script>\n",
              "    </div>\n",
              "  </div>\n",
              "  "
            ]
          },
          "metadata": {},
          "execution_count": 6
        }
      ]
    },
    {
      "cell_type": "code",
      "source": [
        "data= df.drop('price_range',axis=1)\n",
        "label=df['price_range']"
      ],
      "metadata": {
        "id": "lLgU56M5aF8c"
      },
      "execution_count": 7,
      "outputs": []
    },
    {
      "cell_type": "code",
      "source": [
        "data.columns"
      ],
      "metadata": {
        "colab": {
          "base_uri": "https://localhost:8080/"
        },
        "id": "rMCnvYjYx1fW",
        "outputId": "de7debdf-d10c-4fcb-a92d-5855c8694172"
      },
      "execution_count": 8,
      "outputs": [
        {
          "output_type": "execute_result",
          "data": {
            "text/plain": [
              "Index(['battery_power', 'bluetooth', 'clock_speed', 'dual_sim', 'front_cam',\n",
              "       '4G', 'int_memory', 'm_dep', 'mobile_wt', 'n_cores', 'primary_camera',\n",
              "       'px_height', 'px_width', 'ram', 'sc_h', 'sc_w', 'talk_time', 'three_g',\n",
              "       'touch_screen', 'wifi'],\n",
              "      dtype='object')"
            ]
          },
          "metadata": {},
          "execution_count": 8
        }
      ]
    },
    {
      "cell_type": "code",
      "source": [
        "label.nunique()"
      ],
      "metadata": {
        "colab": {
          "base_uri": "https://localhost:8080/"
        },
        "id": "R64QphFfppCf",
        "outputId": "0629b4b2-a5c7-41ed-905b-5ababf0af444"
      },
      "execution_count": 9,
      "outputs": [
        {
          "output_type": "execute_result",
          "data": {
            "text/plain": [
              "4"
            ]
          },
          "metadata": {},
          "execution_count": 9
        }
      ]
    },
    {
      "cell_type": "code",
      "source": [
        "data = data.values\n",
        "data"
      ],
      "metadata": {
        "colab": {
          "base_uri": "https://localhost:8080/"
        },
        "id": "VGSutT4hhIh7",
        "outputId": "3ed90a02-19c9-4b63-e301-d1722dde654b"
      },
      "execution_count": 42,
      "outputs": [
        {
          "output_type": "execute_result",
          "data": {
            "text/plain": [
              "array([[8.420e+02, 0.000e+00, 2.200e+00, ..., 0.000e+00, 0.000e+00,\n",
              "        1.000e+00],\n",
              "       [1.021e+03, 1.000e+00, 5.000e-01, ..., 1.000e+00, 1.000e+00,\n",
              "        0.000e+00],\n",
              "       [5.630e+02, 1.000e+00, 5.000e-01, ..., 1.000e+00, 1.000e+00,\n",
              "        0.000e+00],\n",
              "       ...,\n",
              "       [1.911e+03, 0.000e+00, 9.000e-01, ..., 1.000e+00, 1.000e+00,\n",
              "        0.000e+00],\n",
              "       [1.512e+03, 0.000e+00, 9.000e-01, ..., 1.000e+00, 1.000e+00,\n",
              "        1.000e+00],\n",
              "       [5.100e+02, 1.000e+00, 2.000e+00, ..., 1.000e+00, 1.000e+00,\n",
              "        1.000e+00]])"
            ]
          },
          "metadata": {},
          "execution_count": 42
        }
      ]
    },
    {
      "cell_type": "code",
      "source": [
        "label= label.values"
      ],
      "metadata": {
        "id": "3Ih1hIh6htyy"
      },
      "execution_count": 13,
      "outputs": []
    },
    {
      "cell_type": "code",
      "source": [
        "label"
      ],
      "metadata": {
        "colab": {
          "base_uri": "https://localhost:8080/"
        },
        "id": "iBr-IoIJhxhH",
        "outputId": "274037ea-8377-4a2a-c6b3-14bd8e6489bd"
      },
      "execution_count": 44,
      "outputs": [
        {
          "output_type": "execute_result",
          "data": {
            "text/plain": [
              "array([1, 2, 2, ..., 3, 0, 3])"
            ]
          },
          "metadata": {},
          "execution_count": 44
        }
      ]
    },
    {
      "cell_type": "code",
      "source": [
        "from sklearn.preprocessing import StandardScaler"
      ],
      "metadata": {
        "id": "qxGS9ridqqnF"
      },
      "execution_count": 10,
      "outputs": []
    },
    {
      "cell_type": "code",
      "source": [
        "scaler= StandardScaler()\n",
        "data=scaler.fit_transform(data)\n",
        "data"
      ],
      "metadata": {
        "colab": {
          "base_uri": "https://localhost:8080/"
        },
        "id": "iFI75qHjt-YY",
        "outputId": "88b2ba71-4cef-41a6-fe28-c5e16391a756"
      },
      "execution_count": 11,
      "outputs": [
        {
          "output_type": "execute_result",
          "data": {
            "text/plain": [
              "array([[-0.90259726, -0.9900495 ,  0.83077942, ..., -1.78686097,\n",
              "        -1.00601811,  0.98609664],\n",
              "       [-0.49513857,  1.0100505 , -1.2530642 , ...,  0.55964063,\n",
              "         0.99401789, -1.01409939],\n",
              "       [-1.5376865 ,  1.0100505 , -1.2530642 , ...,  0.55964063,\n",
              "         0.99401789, -1.01409939],\n",
              "       ...,\n",
              "       [ 1.53077336, -0.9900495 , -0.76274805, ...,  0.55964063,\n",
              "         0.99401789, -1.01409939],\n",
              "       [ 0.62252745, -0.9900495 , -0.76274805, ...,  0.55964063,\n",
              "         0.99401789,  0.98609664],\n",
              "       [-1.65833069,  1.0100505 ,  0.58562134, ...,  0.55964063,\n",
              "         0.99401789,  0.98609664]])"
            ]
          },
          "metadata": {},
          "execution_count": 11
        }
      ]
    },
    {
      "cell_type": "code",
      "source": [
        "label = label.reshape(-1,1)"
      ],
      "metadata": {
        "id": "IUlScCGei_Qv"
      },
      "execution_count": 14,
      "outputs": []
    },
    {
      "cell_type": "code",
      "source": [
        "# now convert y labels to one hot encoder\n",
        "from sklearn.preprocessing import OneHotEncoder\n",
        "ohot = OneHotEncoder()\n",
        "label = ohot.fit_transform(label)"
      ],
      "metadata": {
        "id": "R37ABilRivlu"
      },
      "execution_count": 15,
      "outputs": []
    },
    {
      "cell_type": "code",
      "source": [
        "label= pd.get_dummies(label)"
      ],
      "metadata": {
        "id": "iJxabwI0lvTo"
      },
      "execution_count": 12,
      "outputs": []
    },
    {
      "cell_type": "code",
      "source": [
        "label"
      ],
      "metadata": {
        "colab": {
          "base_uri": "https://localhost:8080/",
          "height": 424
        },
        "id": "QxMYZB1nNbvA",
        "outputId": "691bd40d-9f61-4438-f7b2-46cf97f7ac4c"
      },
      "execution_count": 13,
      "outputs": [
        {
          "output_type": "execute_result",
          "data": {
            "text/plain": [
              "      0  1  2  3\n",
              "0     0  1  0  0\n",
              "1     0  0  1  0\n",
              "2     0  0  1  0\n",
              "3     0  0  1  0\n",
              "4     0  1  0  0\n",
              "...  .. .. .. ..\n",
              "1995  1  0  0  0\n",
              "1996  0  0  1  0\n",
              "1997  0  0  0  1\n",
              "1998  1  0  0  0\n",
              "1999  0  0  0  1\n",
              "\n",
              "[2000 rows x 4 columns]"
            ],
            "text/html": [
              "\n",
              "  <div id=\"df-0927fcb7-5e60-4f37-986a-7d60f064e761\">\n",
              "    <div class=\"colab-df-container\">\n",
              "      <div>\n",
              "<style scoped>\n",
              "    .dataframe tbody tr th:only-of-type {\n",
              "        vertical-align: middle;\n",
              "    }\n",
              "\n",
              "    .dataframe tbody tr th {\n",
              "        vertical-align: top;\n",
              "    }\n",
              "\n",
              "    .dataframe thead th {\n",
              "        text-align: right;\n",
              "    }\n",
              "</style>\n",
              "<table border=\"1\" class=\"dataframe\">\n",
              "  <thead>\n",
              "    <tr style=\"text-align: right;\">\n",
              "      <th></th>\n",
              "      <th>0</th>\n",
              "      <th>1</th>\n",
              "      <th>2</th>\n",
              "      <th>3</th>\n",
              "    </tr>\n",
              "  </thead>\n",
              "  <tbody>\n",
              "    <tr>\n",
              "      <th>0</th>\n",
              "      <td>0</td>\n",
              "      <td>1</td>\n",
              "      <td>0</td>\n",
              "      <td>0</td>\n",
              "    </tr>\n",
              "    <tr>\n",
              "      <th>1</th>\n",
              "      <td>0</td>\n",
              "      <td>0</td>\n",
              "      <td>1</td>\n",
              "      <td>0</td>\n",
              "    </tr>\n",
              "    <tr>\n",
              "      <th>2</th>\n",
              "      <td>0</td>\n",
              "      <td>0</td>\n",
              "      <td>1</td>\n",
              "      <td>0</td>\n",
              "    </tr>\n",
              "    <tr>\n",
              "      <th>3</th>\n",
              "      <td>0</td>\n",
              "      <td>0</td>\n",
              "      <td>1</td>\n",
              "      <td>0</td>\n",
              "    </tr>\n",
              "    <tr>\n",
              "      <th>4</th>\n",
              "      <td>0</td>\n",
              "      <td>1</td>\n",
              "      <td>0</td>\n",
              "      <td>0</td>\n",
              "    </tr>\n",
              "    <tr>\n",
              "      <th>...</th>\n",
              "      <td>...</td>\n",
              "      <td>...</td>\n",
              "      <td>...</td>\n",
              "      <td>...</td>\n",
              "    </tr>\n",
              "    <tr>\n",
              "      <th>1995</th>\n",
              "      <td>1</td>\n",
              "      <td>0</td>\n",
              "      <td>0</td>\n",
              "      <td>0</td>\n",
              "    </tr>\n",
              "    <tr>\n",
              "      <th>1996</th>\n",
              "      <td>0</td>\n",
              "      <td>0</td>\n",
              "      <td>1</td>\n",
              "      <td>0</td>\n",
              "    </tr>\n",
              "    <tr>\n",
              "      <th>1997</th>\n",
              "      <td>0</td>\n",
              "      <td>0</td>\n",
              "      <td>0</td>\n",
              "      <td>1</td>\n",
              "    </tr>\n",
              "    <tr>\n",
              "      <th>1998</th>\n",
              "      <td>1</td>\n",
              "      <td>0</td>\n",
              "      <td>0</td>\n",
              "      <td>0</td>\n",
              "    </tr>\n",
              "    <tr>\n",
              "      <th>1999</th>\n",
              "      <td>0</td>\n",
              "      <td>0</td>\n",
              "      <td>0</td>\n",
              "      <td>1</td>\n",
              "    </tr>\n",
              "  </tbody>\n",
              "</table>\n",
              "<p>2000 rows × 4 columns</p>\n",
              "</div>\n",
              "      <button class=\"colab-df-convert\" onclick=\"convertToInteractive('df-0927fcb7-5e60-4f37-986a-7d60f064e761')\"\n",
              "              title=\"Convert this dataframe to an interactive table.\"\n",
              "              style=\"display:none;\">\n",
              "        \n",
              "  <svg xmlns=\"http://www.w3.org/2000/svg\" height=\"24px\"viewBox=\"0 0 24 24\"\n",
              "       width=\"24px\">\n",
              "    <path d=\"M0 0h24v24H0V0z\" fill=\"none\"/>\n",
              "    <path d=\"M18.56 5.44l.94 2.06.94-2.06 2.06-.94-2.06-.94-.94-2.06-.94 2.06-2.06.94zm-11 1L8.5 8.5l.94-2.06 2.06-.94-2.06-.94L8.5 2.5l-.94 2.06-2.06.94zm10 10l.94 2.06.94-2.06 2.06-.94-2.06-.94-.94-2.06-.94 2.06-2.06.94z\"/><path d=\"M17.41 7.96l-1.37-1.37c-.4-.4-.92-.59-1.43-.59-.52 0-1.04.2-1.43.59L10.3 9.45l-7.72 7.72c-.78.78-.78 2.05 0 2.83L4 21.41c.39.39.9.59 1.41.59.51 0 1.02-.2 1.41-.59l7.78-7.78 2.81-2.81c.8-.78.8-2.07 0-2.86zM5.41 20L4 18.59l7.72-7.72 1.47 1.35L5.41 20z\"/>\n",
              "  </svg>\n",
              "      </button>\n",
              "      \n",
              "  <style>\n",
              "    .colab-df-container {\n",
              "      display:flex;\n",
              "      flex-wrap:wrap;\n",
              "      gap: 12px;\n",
              "    }\n",
              "\n",
              "    .colab-df-convert {\n",
              "      background-color: #E8F0FE;\n",
              "      border: none;\n",
              "      border-radius: 50%;\n",
              "      cursor: pointer;\n",
              "      display: none;\n",
              "      fill: #1967D2;\n",
              "      height: 32px;\n",
              "      padding: 0 0 0 0;\n",
              "      width: 32px;\n",
              "    }\n",
              "\n",
              "    .colab-df-convert:hover {\n",
              "      background-color: #E2EBFA;\n",
              "      box-shadow: 0px 1px 2px rgba(60, 64, 67, 0.3), 0px 1px 3px 1px rgba(60, 64, 67, 0.15);\n",
              "      fill: #174EA6;\n",
              "    }\n",
              "\n",
              "    [theme=dark] .colab-df-convert {\n",
              "      background-color: #3B4455;\n",
              "      fill: #D2E3FC;\n",
              "    }\n",
              "\n",
              "    [theme=dark] .colab-df-convert:hover {\n",
              "      background-color: #434B5C;\n",
              "      box-shadow: 0px 1px 3px 1px rgba(0, 0, 0, 0.15);\n",
              "      filter: drop-shadow(0px 1px 2px rgba(0, 0, 0, 0.3));\n",
              "      fill: #FFFFFF;\n",
              "    }\n",
              "  </style>\n",
              "\n",
              "      <script>\n",
              "        const buttonEl =\n",
              "          document.querySelector('#df-0927fcb7-5e60-4f37-986a-7d60f064e761 button.colab-df-convert');\n",
              "        buttonEl.style.display =\n",
              "          google.colab.kernel.accessAllowed ? 'block' : 'none';\n",
              "\n",
              "        async function convertToInteractive(key) {\n",
              "          const element = document.querySelector('#df-0927fcb7-5e60-4f37-986a-7d60f064e761');\n",
              "          const dataTable =\n",
              "            await google.colab.kernel.invokeFunction('convertToInteractive',\n",
              "                                                     [key], {});\n",
              "          if (!dataTable) return;\n",
              "\n",
              "          const docLinkHtml = 'Like what you see? Visit the ' +\n",
              "            '<a target=\"_blank\" href=https://colab.research.google.com/notebooks/data_table.ipynb>data table notebook</a>'\n",
              "            + ' to learn more about interactive tables.';\n",
              "          element.innerHTML = '';\n",
              "          dataTable['output_type'] = 'display_data';\n",
              "          await google.colab.output.renderOutput(dataTable, element);\n",
              "          const docLink = document.createElement('div');\n",
              "          docLink.innerHTML = docLinkHtml;\n",
              "          element.appendChild(docLink);\n",
              "        }\n",
              "      </script>\n",
              "    </div>\n",
              "  </div>\n",
              "  "
            ]
          },
          "metadata": {},
          "execution_count": 13
        }
      ]
    },
    {
      "cell_type": "code",
      "source": [
        "from sklearn.model_selection import train_test_split\n",
        "X_train, X_test,y_train,y_test= train_test_split(data,label, test_size=0.25, random_state=42)"
      ],
      "metadata": {
        "id": "KbAquaueyXSJ"
      },
      "execution_count": 14,
      "outputs": []
    },
    {
      "cell_type": "code",
      "source": [
        "X_train"
      ],
      "metadata": {
        "colab": {
          "base_uri": "https://localhost:8080/"
        },
        "id": "FR0ZeTSb0jtj",
        "outputId": "7b690375-6cce-4c14-be2e-b101b02d720a"
      },
      "execution_count": 18,
      "outputs": [
        {
          "output_type": "execute_result",
          "data": {
            "text/plain": [
              "array([[-1.65605439, -0.9900495 , -0.76274805, ...,  0.55964063,\n",
              "        -1.00601811, -1.01409939],\n",
              "       [-1.36013467,  1.0100505 , -0.51758998, ...,  0.55964063,\n",
              "         0.99401789,  0.98609664],\n",
              "       [-0.98682056, -0.9900495 , -0.88532709, ...,  0.55964063,\n",
              "        -1.00601811,  0.98609664],\n",
              "       ...,\n",
              "       [ 1.34411631,  1.0100505 , -1.2530642 , ...,  0.55964063,\n",
              "        -1.00601811,  0.98609664],\n",
              "       [ 1.56719425, -0.9900495 , -0.76274805, ..., -1.78686097,\n",
              "         0.99401789,  0.98609664],\n",
              "       [-1.3737925 ,  1.0100505 , -1.13048516, ...,  0.55964063,\n",
              "        -1.00601811, -1.01409939]])"
            ]
          },
          "metadata": {},
          "execution_count": 18
        }
      ]
    },
    {
      "cell_type": "code",
      "source": [
        "X_train.shape"
      ],
      "metadata": {
        "colab": {
          "base_uri": "https://localhost:8080/"
        },
        "id": "Dgs6K07X0sGq",
        "outputId": "41f80888-a453-4c41-b51f-8bf973ba655c"
      },
      "execution_count": 52,
      "outputs": [
        {
          "output_type": "execute_result",
          "data": {
            "text/plain": [
              "(1500, 20)"
            ]
          },
          "metadata": {},
          "execution_count": 52
        }
      ]
    },
    {
      "cell_type": "code",
      "source": [
        "X_test.shape"
      ],
      "metadata": {
        "colab": {
          "base_uri": "https://localhost:8080/"
        },
        "id": "HEoRJV9o0l9K",
        "outputId": "a1328f69-b17d-442c-a5d4-ed43245f1fa7"
      },
      "execution_count": 53,
      "outputs": [
        {
          "output_type": "execute_result",
          "data": {
            "text/plain": [
              "(500, 20)"
            ]
          },
          "metadata": {},
          "execution_count": 53
        }
      ]
    },
    {
      "cell_type": "code",
      "source": [
        "y_train.shape"
      ],
      "metadata": {
        "colab": {
          "base_uri": "https://localhost:8080/"
        },
        "id": "DNq8A_BAONPX",
        "outputId": "33ace524-6057-4896-883a-d73c445ceaf0"
      },
      "execution_count": 54,
      "outputs": [
        {
          "output_type": "execute_result",
          "data": {
            "text/plain": [
              "(1500, 4)"
            ]
          },
          "metadata": {},
          "execution_count": 54
        }
      ]
    },
    {
      "cell_type": "code",
      "source": [
        "y_test.shape"
      ],
      "metadata": {
        "colab": {
          "base_uri": "https://localhost:8080/"
        },
        "id": "oe7145wpOQkm",
        "outputId": "bb89fc63-020b-4f47-efbc-80be030f7101"
      },
      "execution_count": 55,
      "outputs": [
        {
          "output_type": "execute_result",
          "data": {
            "text/plain": [
              "(500, 4)"
            ]
          },
          "metadata": {},
          "execution_count": 55
        }
      ]
    },
    {
      "cell_type": "code",
      "source": [
        "from keras.models import Sequential\n",
        "from keras.layers import Dense"
      ],
      "metadata": {
        "id": "zegym85t0v47"
      },
      "execution_count": 15,
      "outputs": []
    },
    {
      "cell_type": "code",
      "source": [
        "model= Sequential()"
      ],
      "metadata": {
        "id": "tI0rAeCw2gpm"
      },
      "execution_count": 16,
      "outputs": []
    },
    {
      "cell_type": "code",
      "source": [
        "model=Sequential()\n",
        "model.add(Dense(8,activation='relu'))\n",
        "model.add(Dense(6,activation='relu'))\n",
        "model.add(Dense(4,activation='softmax'))"
      ],
      "metadata": {
        "id": "1k5LbH4e2k4N"
      },
      "execution_count": 17,
      "outputs": []
    },
    {
      "cell_type": "code",
      "source": [
        "model.compile(loss='categorical_crossentropy',optimizer='Adam',metrics=['accuracy'])"
      ],
      "metadata": {
        "id": "29kZhl17LwxK"
      },
      "execution_count": 18,
      "outputs": []
    },
    {
      "cell_type": "code",
      "source": [
        "history = model.fit(X_train,y_train,epochs=105,validation_data=(X_test,y_test),batch_size=64)"
      ],
      "metadata": {
        "colab": {
          "base_uri": "https://localhost:8080/"
        },
        "id": "_4CUPAIOL24O",
        "outputId": "aac18425-4b7a-4b4b-d8b8-a8eab9be536b"
      },
      "execution_count": 19,
      "outputs": [
        {
          "output_type": "stream",
          "name": "stdout",
          "text": [
            "Epoch 1/105\n",
            "24/24 [==============================] - 1s 11ms/step - loss: 1.4674 - accuracy: 0.2653 - val_loss: 1.4536 - val_accuracy: 0.2460\n",
            "Epoch 2/105\n",
            "24/24 [==============================] - 0s 3ms/step - loss: 1.4142 - accuracy: 0.2753 - val_loss: 1.4118 - val_accuracy: 0.2540\n",
            "Epoch 3/105\n",
            "24/24 [==============================] - 0s 3ms/step - loss: 1.3835 - accuracy: 0.2800 - val_loss: 1.3835 - val_accuracy: 0.2600\n",
            "Epoch 4/105\n",
            "24/24 [==============================] - 0s 3ms/step - loss: 1.3610 - accuracy: 0.3000 - val_loss: 1.3605 - val_accuracy: 0.2980\n",
            "Epoch 5/105\n",
            "24/24 [==============================] - 0s 3ms/step - loss: 1.3394 - accuracy: 0.3213 - val_loss: 1.3386 - val_accuracy: 0.3200\n",
            "Epoch 6/105\n",
            "24/24 [==============================] - 0s 4ms/step - loss: 1.3161 - accuracy: 0.3493 - val_loss: 1.3153 - val_accuracy: 0.3680\n",
            "Epoch 7/105\n",
            "24/24 [==============================] - 0s 4ms/step - loss: 1.2901 - accuracy: 0.3867 - val_loss: 1.2879 - val_accuracy: 0.4040\n",
            "Epoch 8/105\n",
            "24/24 [==============================] - 0s 3ms/step - loss: 1.2603 - accuracy: 0.4173 - val_loss: 1.2557 - val_accuracy: 0.4160\n",
            "Epoch 9/105\n",
            "24/24 [==============================] - 0s 4ms/step - loss: 1.2247 - accuracy: 0.4527 - val_loss: 1.2165 - val_accuracy: 0.4760\n",
            "Epoch 10/105\n",
            "24/24 [==============================] - 0s 3ms/step - loss: 1.1844 - accuracy: 0.4700 - val_loss: 1.1733 - val_accuracy: 0.4800\n",
            "Epoch 11/105\n",
            "24/24 [==============================] - 0s 3ms/step - loss: 1.1393 - accuracy: 0.4967 - val_loss: 1.1237 - val_accuracy: 0.5120\n",
            "Epoch 12/105\n",
            "24/24 [==============================] - 0s 3ms/step - loss: 1.0895 - accuracy: 0.5167 - val_loss: 1.0707 - val_accuracy: 0.5280\n",
            "Epoch 13/105\n",
            "24/24 [==============================] - 0s 4ms/step - loss: 1.0378 - accuracy: 0.5400 - val_loss: 1.0157 - val_accuracy: 0.5520\n",
            "Epoch 14/105\n",
            "24/24 [==============================] - 0s 4ms/step - loss: 0.9847 - accuracy: 0.5653 - val_loss: 0.9642 - val_accuracy: 0.5680\n",
            "Epoch 15/105\n",
            "24/24 [==============================] - 0s 3ms/step - loss: 0.9324 - accuracy: 0.5820 - val_loss: 0.9138 - val_accuracy: 0.5820\n",
            "Epoch 16/105\n",
            "24/24 [==============================] - 0s 3ms/step - loss: 0.8830 - accuracy: 0.6047 - val_loss: 0.8665 - val_accuracy: 0.6040\n",
            "Epoch 17/105\n",
            "24/24 [==============================] - 0s 3ms/step - loss: 0.8359 - accuracy: 0.6247 - val_loss: 0.8242 - val_accuracy: 0.6260\n",
            "Epoch 18/105\n",
            "24/24 [==============================] - 0s 4ms/step - loss: 0.7929 - accuracy: 0.6413 - val_loss: 0.7822 - val_accuracy: 0.6520\n",
            "Epoch 19/105\n",
            "24/24 [==============================] - 0s 3ms/step - loss: 0.7527 - accuracy: 0.6773 - val_loss: 0.7459 - val_accuracy: 0.6660\n",
            "Epoch 20/105\n",
            "24/24 [==============================] - 0s 4ms/step - loss: 0.7151 - accuracy: 0.6993 - val_loss: 0.7103 - val_accuracy: 0.6900\n",
            "Epoch 21/105\n",
            "24/24 [==============================] - 0s 4ms/step - loss: 0.6801 - accuracy: 0.7227 - val_loss: 0.6784 - val_accuracy: 0.7040\n",
            "Epoch 22/105\n",
            "24/24 [==============================] - 0s 3ms/step - loss: 0.6474 - accuracy: 0.7440 - val_loss: 0.6476 - val_accuracy: 0.7200\n",
            "Epoch 23/105\n",
            "24/24 [==============================] - 0s 3ms/step - loss: 0.6168 - accuracy: 0.7720 - val_loss: 0.6205 - val_accuracy: 0.7340\n",
            "Epoch 24/105\n",
            "24/24 [==============================] - 0s 10ms/step - loss: 0.5887 - accuracy: 0.7927 - val_loss: 0.5936 - val_accuracy: 0.7460\n",
            "Epoch 25/105\n",
            "24/24 [==============================] - 0s 3ms/step - loss: 0.5614 - accuracy: 0.8087 - val_loss: 0.5701 - val_accuracy: 0.7660\n",
            "Epoch 26/105\n",
            "24/24 [==============================] - 0s 3ms/step - loss: 0.5362 - accuracy: 0.8273 - val_loss: 0.5455 - val_accuracy: 0.7800\n",
            "Epoch 27/105\n",
            "24/24 [==============================] - 0s 3ms/step - loss: 0.5123 - accuracy: 0.8393 - val_loss: 0.5232 - val_accuracy: 0.8040\n",
            "Epoch 28/105\n",
            "24/24 [==============================] - 0s 3ms/step - loss: 0.4899 - accuracy: 0.8440 - val_loss: 0.5042 - val_accuracy: 0.8040\n",
            "Epoch 29/105\n",
            "24/24 [==============================] - 0s 4ms/step - loss: 0.4694 - accuracy: 0.8593 - val_loss: 0.4856 - val_accuracy: 0.8300\n",
            "Epoch 30/105\n",
            "24/24 [==============================] - 0s 3ms/step - loss: 0.4494 - accuracy: 0.8687 - val_loss: 0.4666 - val_accuracy: 0.8280\n",
            "Epoch 31/105\n",
            "24/24 [==============================] - 0s 3ms/step - loss: 0.4316 - accuracy: 0.8727 - val_loss: 0.4495 - val_accuracy: 0.8380\n",
            "Epoch 32/105\n",
            "24/24 [==============================] - 0s 3ms/step - loss: 0.4134 - accuracy: 0.8787 - val_loss: 0.4362 - val_accuracy: 0.8440\n",
            "Epoch 33/105\n",
            "24/24 [==============================] - 0s 3ms/step - loss: 0.3970 - accuracy: 0.8893 - val_loss: 0.4205 - val_accuracy: 0.8500\n",
            "Epoch 34/105\n",
            "24/24 [==============================] - 0s 3ms/step - loss: 0.3807 - accuracy: 0.8967 - val_loss: 0.4064 - val_accuracy: 0.8600\n",
            "Epoch 35/105\n",
            "24/24 [==============================] - 0s 3ms/step - loss: 0.3666 - accuracy: 0.9007 - val_loss: 0.3924 - val_accuracy: 0.8700\n",
            "Epoch 36/105\n",
            "24/24 [==============================] - 0s 3ms/step - loss: 0.3525 - accuracy: 0.9027 - val_loss: 0.3798 - val_accuracy: 0.8720\n",
            "Epoch 37/105\n",
            "24/24 [==============================] - 0s 3ms/step - loss: 0.3391 - accuracy: 0.9053 - val_loss: 0.3680 - val_accuracy: 0.8760\n",
            "Epoch 38/105\n",
            "24/24 [==============================] - 0s 3ms/step - loss: 0.3266 - accuracy: 0.9080 - val_loss: 0.3568 - val_accuracy: 0.8800\n",
            "Epoch 39/105\n",
            "24/24 [==============================] - 0s 3ms/step - loss: 0.3146 - accuracy: 0.9133 - val_loss: 0.3444 - val_accuracy: 0.8780\n",
            "Epoch 40/105\n",
            "24/24 [==============================] - 0s 3ms/step - loss: 0.3033 - accuracy: 0.9107 - val_loss: 0.3357 - val_accuracy: 0.8880\n",
            "Epoch 41/105\n",
            "24/24 [==============================] - 0s 3ms/step - loss: 0.2926 - accuracy: 0.9227 - val_loss: 0.3244 - val_accuracy: 0.8860\n",
            "Epoch 42/105\n",
            "24/24 [==============================] - 0s 3ms/step - loss: 0.2829 - accuracy: 0.9220 - val_loss: 0.3156 - val_accuracy: 0.8900\n",
            "Epoch 43/105\n",
            "24/24 [==============================] - 0s 4ms/step - loss: 0.2738 - accuracy: 0.9247 - val_loss: 0.3086 - val_accuracy: 0.8920\n",
            "Epoch 44/105\n",
            "24/24 [==============================] - 0s 3ms/step - loss: 0.2651 - accuracy: 0.9280 - val_loss: 0.2997 - val_accuracy: 0.8920\n",
            "Epoch 45/105\n",
            "24/24 [==============================] - 0s 4ms/step - loss: 0.2569 - accuracy: 0.9280 - val_loss: 0.2931 - val_accuracy: 0.9000\n",
            "Epoch 46/105\n",
            "24/24 [==============================] - 0s 3ms/step - loss: 0.2502 - accuracy: 0.9287 - val_loss: 0.2878 - val_accuracy: 0.9040\n",
            "Epoch 47/105\n",
            "24/24 [==============================] - 0s 4ms/step - loss: 0.2425 - accuracy: 0.9307 - val_loss: 0.2799 - val_accuracy: 0.9080\n",
            "Epoch 48/105\n",
            "24/24 [==============================] - 0s 3ms/step - loss: 0.2343 - accuracy: 0.9353 - val_loss: 0.2734 - val_accuracy: 0.9040\n",
            "Epoch 49/105\n",
            "24/24 [==============================] - 0s 3ms/step - loss: 0.2282 - accuracy: 0.9373 - val_loss: 0.2680 - val_accuracy: 0.8980\n",
            "Epoch 50/105\n",
            "24/24 [==============================] - 0s 4ms/step - loss: 0.2222 - accuracy: 0.9400 - val_loss: 0.2641 - val_accuracy: 0.9040\n",
            "Epoch 51/105\n",
            "24/24 [==============================] - 0s 3ms/step - loss: 0.2165 - accuracy: 0.9427 - val_loss: 0.2580 - val_accuracy: 0.9060\n",
            "Epoch 52/105\n",
            "24/24 [==============================] - 0s 3ms/step - loss: 0.2106 - accuracy: 0.9453 - val_loss: 0.2544 - val_accuracy: 0.9100\n",
            "Epoch 53/105\n",
            "24/24 [==============================] - 0s 4ms/step - loss: 0.2055 - accuracy: 0.9440 - val_loss: 0.2498 - val_accuracy: 0.9100\n",
            "Epoch 54/105\n",
            "24/24 [==============================] - 0s 3ms/step - loss: 0.2006 - accuracy: 0.9453 - val_loss: 0.2458 - val_accuracy: 0.9080\n",
            "Epoch 55/105\n",
            "24/24 [==============================] - 0s 3ms/step - loss: 0.1962 - accuracy: 0.9460 - val_loss: 0.2425 - val_accuracy: 0.9100\n",
            "Epoch 56/105\n",
            "24/24 [==============================] - 0s 3ms/step - loss: 0.1911 - accuracy: 0.9453 - val_loss: 0.2389 - val_accuracy: 0.9140\n",
            "Epoch 57/105\n",
            "24/24 [==============================] - 0s 3ms/step - loss: 0.1870 - accuracy: 0.9447 - val_loss: 0.2329 - val_accuracy: 0.9080\n",
            "Epoch 58/105\n",
            "24/24 [==============================] - 0s 3ms/step - loss: 0.1827 - accuracy: 0.9487 - val_loss: 0.2313 - val_accuracy: 0.9140\n",
            "Epoch 59/105\n",
            "24/24 [==============================] - 0s 3ms/step - loss: 0.1784 - accuracy: 0.9540 - val_loss: 0.2286 - val_accuracy: 0.9160\n",
            "Epoch 60/105\n",
            "24/24 [==============================] - 0s 3ms/step - loss: 0.1754 - accuracy: 0.9487 - val_loss: 0.2230 - val_accuracy: 0.9240\n",
            "Epoch 61/105\n",
            "24/24 [==============================] - 0s 3ms/step - loss: 0.1712 - accuracy: 0.9520 - val_loss: 0.2202 - val_accuracy: 0.9200\n",
            "Epoch 62/105\n",
            "24/24 [==============================] - 0s 3ms/step - loss: 0.1674 - accuracy: 0.9540 - val_loss: 0.2185 - val_accuracy: 0.9200\n",
            "Epoch 63/105\n",
            "24/24 [==============================] - 0s 3ms/step - loss: 0.1645 - accuracy: 0.9487 - val_loss: 0.2163 - val_accuracy: 0.9180\n",
            "Epoch 64/105\n",
            "24/24 [==============================] - 0s 3ms/step - loss: 0.1613 - accuracy: 0.9520 - val_loss: 0.2115 - val_accuracy: 0.9220\n",
            "Epoch 65/105\n",
            "24/24 [==============================] - 0s 3ms/step - loss: 0.1583 - accuracy: 0.9553 - val_loss: 0.2114 - val_accuracy: 0.9240\n",
            "Epoch 66/105\n",
            "24/24 [==============================] - 0s 3ms/step - loss: 0.1542 - accuracy: 0.9573 - val_loss: 0.2083 - val_accuracy: 0.9260\n",
            "Epoch 67/105\n",
            "24/24 [==============================] - 0s 3ms/step - loss: 0.1524 - accuracy: 0.9547 - val_loss: 0.2067 - val_accuracy: 0.9240\n",
            "Epoch 68/105\n",
            "24/24 [==============================] - 0s 3ms/step - loss: 0.1481 - accuracy: 0.9560 - val_loss: 0.2033 - val_accuracy: 0.9260\n",
            "Epoch 69/105\n",
            "24/24 [==============================] - 0s 3ms/step - loss: 0.1457 - accuracy: 0.9560 - val_loss: 0.2015 - val_accuracy: 0.9220\n",
            "Epoch 70/105\n",
            "24/24 [==============================] - 0s 3ms/step - loss: 0.1423 - accuracy: 0.9560 - val_loss: 0.1984 - val_accuracy: 0.9280\n",
            "Epoch 71/105\n",
            "24/24 [==============================] - 0s 3ms/step - loss: 0.1400 - accuracy: 0.9580 - val_loss: 0.1974 - val_accuracy: 0.9260\n",
            "Epoch 72/105\n",
            "24/24 [==============================] - 0s 3ms/step - loss: 0.1382 - accuracy: 0.9600 - val_loss: 0.1932 - val_accuracy: 0.9300\n",
            "Epoch 73/105\n",
            "24/24 [==============================] - 0s 3ms/step - loss: 0.1355 - accuracy: 0.9633 - val_loss: 0.1932 - val_accuracy: 0.9280\n",
            "Epoch 74/105\n",
            "24/24 [==============================] - 0s 3ms/step - loss: 0.1321 - accuracy: 0.9640 - val_loss: 0.1883 - val_accuracy: 0.9320\n",
            "Epoch 75/105\n",
            "24/24 [==============================] - 0s 4ms/step - loss: 0.1295 - accuracy: 0.9653 - val_loss: 0.1902 - val_accuracy: 0.9240\n",
            "Epoch 76/105\n",
            "24/24 [==============================] - 0s 4ms/step - loss: 0.1286 - accuracy: 0.9627 - val_loss: 0.1850 - val_accuracy: 0.9340\n",
            "Epoch 77/105\n",
            "24/24 [==============================] - 0s 3ms/step - loss: 0.1258 - accuracy: 0.9640 - val_loss: 0.1859 - val_accuracy: 0.9300\n",
            "Epoch 78/105\n",
            "24/24 [==============================] - 0s 3ms/step - loss: 0.1237 - accuracy: 0.9660 - val_loss: 0.1831 - val_accuracy: 0.9300\n",
            "Epoch 79/105\n",
            "24/24 [==============================] - 0s 3ms/step - loss: 0.1210 - accuracy: 0.9653 - val_loss: 0.1822 - val_accuracy: 0.9340\n",
            "Epoch 80/105\n",
            "24/24 [==============================] - 0s 3ms/step - loss: 0.1189 - accuracy: 0.9660 - val_loss: 0.1808 - val_accuracy: 0.9360\n",
            "Epoch 81/105\n",
            "24/24 [==============================] - 0s 3ms/step - loss: 0.1169 - accuracy: 0.9660 - val_loss: 0.1769 - val_accuracy: 0.9360\n",
            "Epoch 82/105\n",
            "24/24 [==============================] - 0s 3ms/step - loss: 0.1149 - accuracy: 0.9673 - val_loss: 0.1774 - val_accuracy: 0.9380\n",
            "Epoch 83/105\n",
            "24/24 [==============================] - 0s 3ms/step - loss: 0.1135 - accuracy: 0.9707 - val_loss: 0.1758 - val_accuracy: 0.9300\n",
            "Epoch 84/105\n",
            "24/24 [==============================] - 0s 3ms/step - loss: 0.1117 - accuracy: 0.9693 - val_loss: 0.1758 - val_accuracy: 0.9360\n",
            "Epoch 85/105\n",
            "24/24 [==============================] - 0s 3ms/step - loss: 0.1103 - accuracy: 0.9693 - val_loss: 0.1754 - val_accuracy: 0.9320\n",
            "Epoch 86/105\n",
            "24/24 [==============================] - 0s 3ms/step - loss: 0.1085 - accuracy: 0.9700 - val_loss: 0.1715 - val_accuracy: 0.9340\n",
            "Epoch 87/105\n",
            "24/24 [==============================] - 0s 3ms/step - loss: 0.1071 - accuracy: 0.9733 - val_loss: 0.1709 - val_accuracy: 0.9400\n",
            "Epoch 88/105\n",
            "24/24 [==============================] - 0s 3ms/step - loss: 0.1057 - accuracy: 0.9740 - val_loss: 0.1708 - val_accuracy: 0.9400\n",
            "Epoch 89/105\n",
            "24/24 [==============================] - 0s 3ms/step - loss: 0.1030 - accuracy: 0.9740 - val_loss: 0.1698 - val_accuracy: 0.9360\n",
            "Epoch 90/105\n",
            "24/24 [==============================] - 0s 3ms/step - loss: 0.1014 - accuracy: 0.9747 - val_loss: 0.1680 - val_accuracy: 0.9420\n",
            "Epoch 91/105\n",
            "24/24 [==============================] - 0s 3ms/step - loss: 0.1005 - accuracy: 0.9753 - val_loss: 0.1678 - val_accuracy: 0.9420\n",
            "Epoch 92/105\n",
            "24/24 [==============================] - 0s 3ms/step - loss: 0.0992 - accuracy: 0.9733 - val_loss: 0.1653 - val_accuracy: 0.9420\n",
            "Epoch 93/105\n",
            "24/24 [==============================] - 0s 3ms/step - loss: 0.0973 - accuracy: 0.9747 - val_loss: 0.1642 - val_accuracy: 0.9420\n",
            "Epoch 94/105\n",
            "24/24 [==============================] - 0s 4ms/step - loss: 0.0967 - accuracy: 0.9800 - val_loss: 0.1636 - val_accuracy: 0.9400\n",
            "Epoch 95/105\n",
            "24/24 [==============================] - 0s 4ms/step - loss: 0.0949 - accuracy: 0.9760 - val_loss: 0.1638 - val_accuracy: 0.9460\n",
            "Epoch 96/105\n",
            "24/24 [==============================] - 0s 3ms/step - loss: 0.0932 - accuracy: 0.9780 - val_loss: 0.1630 - val_accuracy: 0.9360\n",
            "Epoch 97/105\n",
            "24/24 [==============================] - 0s 3ms/step - loss: 0.0922 - accuracy: 0.9767 - val_loss: 0.1629 - val_accuracy: 0.9400\n",
            "Epoch 98/105\n",
            "24/24 [==============================] - 0s 4ms/step - loss: 0.0909 - accuracy: 0.9773 - val_loss: 0.1593 - val_accuracy: 0.9400\n",
            "Epoch 99/105\n",
            "24/24 [==============================] - 0s 4ms/step - loss: 0.0898 - accuracy: 0.9753 - val_loss: 0.1602 - val_accuracy: 0.9420\n",
            "Epoch 100/105\n",
            "24/24 [==============================] - 0s 3ms/step - loss: 0.0877 - accuracy: 0.9807 - val_loss: 0.1567 - val_accuracy: 0.9440\n",
            "Epoch 101/105\n",
            "24/24 [==============================] - 0s 3ms/step - loss: 0.0869 - accuracy: 0.9793 - val_loss: 0.1557 - val_accuracy: 0.9460\n",
            "Epoch 102/105\n",
            "24/24 [==============================] - 0s 3ms/step - loss: 0.0858 - accuracy: 0.9807 - val_loss: 0.1568 - val_accuracy: 0.9380\n",
            "Epoch 103/105\n",
            "24/24 [==============================] - 0s 3ms/step - loss: 0.0842 - accuracy: 0.9787 - val_loss: 0.1547 - val_accuracy: 0.9400\n",
            "Epoch 104/105\n",
            "24/24 [==============================] - 0s 3ms/step - loss: 0.0836 - accuracy: 0.9820 - val_loss: 0.1551 - val_accuracy: 0.9400\n",
            "Epoch 105/105\n",
            "24/24 [==============================] - 0s 3ms/step - loss: 0.0824 - accuracy: 0.9800 - val_loss: 0.1536 - val_accuracy: 0.9400\n"
          ]
        }
      ]
    },
    {
      "cell_type": "code",
      "source": [
        "y_pred= model.predict(X_test)"
      ],
      "metadata": {
        "colab": {
          "base_uri": "https://localhost:8080/"
        },
        "id": "ZQjd3zovL7Gn",
        "outputId": "b37ab7a3-e13f-430a-c5c8-c07417efb487"
      },
      "execution_count": 20,
      "outputs": [
        {
          "output_type": "stream",
          "name": "stdout",
          "text": [
            "16/16 [==============================] - 0s 2ms/step\n"
          ]
        }
      ]
    },
    {
      "cell_type": "code",
      "source": [
        "y_pred"
      ],
      "metadata": {
        "colab": {
          "base_uri": "https://localhost:8080/"
        },
        "id": "CZWuPyONOo_I",
        "outputId": "23d5f357-1dcd-46fa-b8b5-7dc34830e83f"
      },
      "execution_count": 26,
      "outputs": [
        {
          "output_type": "execute_result",
          "data": {
            "text/plain": [
              "array([[9.9809253e-01, 1.9072032e-03, 2.4802321e-07, 8.0230729e-18],\n",
              "       [8.3034451e-05, 9.7114565e-03, 9.9007463e-01, 1.3071827e-04],\n",
              "       [1.5040630e-02, 9.8470575e-01, 2.5355152e-04, 6.9863697e-15],\n",
              "       ...,\n",
              "       [8.3878959e-08, 2.3218231e-06, 9.5555890e-01, 4.4438653e-02],\n",
              "       [1.9430722e-14, 1.1741324e-15, 2.3323970e-04, 9.9976677e-01],\n",
              "       [1.5087241e-01, 8.4864748e-01, 4.8014769e-04, 2.6416796e-12]],\n",
              "      dtype=float32)"
            ]
          },
          "metadata": {},
          "execution_count": 26
        }
      ]
    },
    {
      "cell_type": "code",
      "source": [
        "#lets do the inverse one hot encoding\n",
        "pred = []\n",
        "for i in range(len(y_pred)):\n",
        "    pred.append(np.argmax(y_pred[i]))"
      ],
      "metadata": {
        "id": "QH8tTCWAOugv"
      },
      "execution_count": 22,
      "outputs": []
    },
    {
      "cell_type": "code",
      "source": [
        "test = []\n",
        "for i in range(len(y_test)):\n",
        "  test.append(np.argmax(y_test[i]))"
      ],
      "metadata": {
        "colab": {
          "base_uri": "https://localhost:8080/",
          "height": 502
        },
        "id": "NKSKxTnCPng3",
        "outputId": "c0d3ce30-4f46-49bf-8412-da9a52024747"
      },
      "execution_count": 25,
      "outputs": [
        {
          "output_type": "error",
          "ename": "KeyError",
          "evalue": "ignored",
          "traceback": [
            "\u001b[0;31m---------------------------------------------------------------------------\u001b[0m",
            "\u001b[0;31mKeyError\u001b[0m                                  Traceback (most recent call last)",
            "\u001b[0;32m/usr/local/lib/python3.7/dist-packages/pandas/core/indexes/base.py\u001b[0m in \u001b[0;36mget_loc\u001b[0;34m(self, key, method, tolerance)\u001b[0m\n\u001b[1;32m   3360\u001b[0m             \u001b[0;32mtry\u001b[0m\u001b[0;34m:\u001b[0m\u001b[0;34m\u001b[0m\u001b[0;34m\u001b[0m\u001b[0m\n\u001b[0;32m-> 3361\u001b[0;31m                 \u001b[0;32mreturn\u001b[0m \u001b[0mself\u001b[0m\u001b[0;34m.\u001b[0m\u001b[0m_engine\u001b[0m\u001b[0;34m.\u001b[0m\u001b[0mget_loc\u001b[0m\u001b[0;34m(\u001b[0m\u001b[0mcasted_key\u001b[0m\u001b[0;34m)\u001b[0m\u001b[0;34m\u001b[0m\u001b[0;34m\u001b[0m\u001b[0m\n\u001b[0m\u001b[1;32m   3362\u001b[0m             \u001b[0;32mexcept\u001b[0m \u001b[0mKeyError\u001b[0m \u001b[0;32mas\u001b[0m \u001b[0merr\u001b[0m\u001b[0;34m:\u001b[0m\u001b[0;34m\u001b[0m\u001b[0;34m\u001b[0m\u001b[0m\n",
            "\u001b[0;32m/usr/local/lib/python3.7/dist-packages/pandas/_libs/index.pyx\u001b[0m in \u001b[0;36mpandas._libs.index.IndexEngine.get_loc\u001b[0;34m()\u001b[0m\n",
            "\u001b[0;32m/usr/local/lib/python3.7/dist-packages/pandas/_libs/index.pyx\u001b[0m in \u001b[0;36mpandas._libs.index.IndexEngine.get_loc\u001b[0;34m()\u001b[0m\n",
            "\u001b[0;32mpandas/_libs/hashtable_class_helper.pxi\u001b[0m in \u001b[0;36mpandas._libs.hashtable.Int64HashTable.get_item\u001b[0;34m()\u001b[0m\n",
            "\u001b[0;32mpandas/_libs/hashtable_class_helper.pxi\u001b[0m in \u001b[0;36mpandas._libs.hashtable.Int64HashTable.get_item\u001b[0;34m()\u001b[0m\n",
            "\u001b[0;31mKeyError\u001b[0m: 4",
            "\nThe above exception was the direct cause of the following exception:\n",
            "\u001b[0;31mKeyError\u001b[0m                                  Traceback (most recent call last)",
            "\u001b[0;32m<ipython-input-25-501cfab6e5f0>\u001b[0m in \u001b[0;36m<module>\u001b[0;34m\u001b[0m\n\u001b[1;32m      1\u001b[0m \u001b[0mtest\u001b[0m \u001b[0;34m=\u001b[0m \u001b[0;34m[\u001b[0m\u001b[0;34m]\u001b[0m\u001b[0;34m\u001b[0m\u001b[0;34m\u001b[0m\u001b[0m\n\u001b[1;32m      2\u001b[0m \u001b[0;32mfor\u001b[0m \u001b[0mi\u001b[0m \u001b[0;32min\u001b[0m \u001b[0mrange\u001b[0m\u001b[0;34m(\u001b[0m\u001b[0mlen\u001b[0m\u001b[0;34m(\u001b[0m\u001b[0my_test\u001b[0m\u001b[0;34m)\u001b[0m\u001b[0;34m)\u001b[0m\u001b[0;34m:\u001b[0m\u001b[0;34m\u001b[0m\u001b[0;34m\u001b[0m\u001b[0m\n\u001b[0;32m----> 3\u001b[0;31m   \u001b[0mtest\u001b[0m\u001b[0;34m.\u001b[0m\u001b[0mappend\u001b[0m\u001b[0;34m(\u001b[0m\u001b[0mnp\u001b[0m\u001b[0;34m.\u001b[0m\u001b[0margmax\u001b[0m\u001b[0;34m(\u001b[0m\u001b[0my_test\u001b[0m\u001b[0;34m[\u001b[0m\u001b[0mi\u001b[0m\u001b[0;34m]\u001b[0m\u001b[0;34m)\u001b[0m\u001b[0;34m)\u001b[0m\u001b[0;34m\u001b[0m\u001b[0;34m\u001b[0m\u001b[0m\n\u001b[0m",
            "\u001b[0;32m/usr/local/lib/python3.7/dist-packages/pandas/core/frame.py\u001b[0m in \u001b[0;36m__getitem__\u001b[0;34m(self, key)\u001b[0m\n\u001b[1;32m   3456\u001b[0m             \u001b[0;32mif\u001b[0m \u001b[0mself\u001b[0m\u001b[0;34m.\u001b[0m\u001b[0mcolumns\u001b[0m\u001b[0;34m.\u001b[0m\u001b[0mnlevels\u001b[0m \u001b[0;34m>\u001b[0m \u001b[0;36m1\u001b[0m\u001b[0;34m:\u001b[0m\u001b[0;34m\u001b[0m\u001b[0;34m\u001b[0m\u001b[0m\n\u001b[1;32m   3457\u001b[0m                 \u001b[0;32mreturn\u001b[0m \u001b[0mself\u001b[0m\u001b[0;34m.\u001b[0m\u001b[0m_getitem_multilevel\u001b[0m\u001b[0;34m(\u001b[0m\u001b[0mkey\u001b[0m\u001b[0;34m)\u001b[0m\u001b[0;34m\u001b[0m\u001b[0;34m\u001b[0m\u001b[0m\n\u001b[0;32m-> 3458\u001b[0;31m             \u001b[0mindexer\u001b[0m \u001b[0;34m=\u001b[0m \u001b[0mself\u001b[0m\u001b[0;34m.\u001b[0m\u001b[0mcolumns\u001b[0m\u001b[0;34m.\u001b[0m\u001b[0mget_loc\u001b[0m\u001b[0;34m(\u001b[0m\u001b[0mkey\u001b[0m\u001b[0;34m)\u001b[0m\u001b[0;34m\u001b[0m\u001b[0;34m\u001b[0m\u001b[0m\n\u001b[0m\u001b[1;32m   3459\u001b[0m             \u001b[0;32mif\u001b[0m \u001b[0mis_integer\u001b[0m\u001b[0;34m(\u001b[0m\u001b[0mindexer\u001b[0m\u001b[0;34m)\u001b[0m\u001b[0;34m:\u001b[0m\u001b[0;34m\u001b[0m\u001b[0;34m\u001b[0m\u001b[0m\n\u001b[1;32m   3460\u001b[0m                 \u001b[0mindexer\u001b[0m \u001b[0;34m=\u001b[0m \u001b[0;34m[\u001b[0m\u001b[0mindexer\u001b[0m\u001b[0;34m]\u001b[0m\u001b[0;34m\u001b[0m\u001b[0;34m\u001b[0m\u001b[0m\n",
            "\u001b[0;32m/usr/local/lib/python3.7/dist-packages/pandas/core/indexes/base.py\u001b[0m in \u001b[0;36mget_loc\u001b[0;34m(self, key, method, tolerance)\u001b[0m\n\u001b[1;32m   3361\u001b[0m                 \u001b[0;32mreturn\u001b[0m \u001b[0mself\u001b[0m\u001b[0;34m.\u001b[0m\u001b[0m_engine\u001b[0m\u001b[0;34m.\u001b[0m\u001b[0mget_loc\u001b[0m\u001b[0;34m(\u001b[0m\u001b[0mcasted_key\u001b[0m\u001b[0;34m)\u001b[0m\u001b[0;34m\u001b[0m\u001b[0;34m\u001b[0m\u001b[0m\n\u001b[1;32m   3362\u001b[0m             \u001b[0;32mexcept\u001b[0m \u001b[0mKeyError\u001b[0m \u001b[0;32mas\u001b[0m \u001b[0merr\u001b[0m\u001b[0;34m:\u001b[0m\u001b[0;34m\u001b[0m\u001b[0;34m\u001b[0m\u001b[0m\n\u001b[0;32m-> 3363\u001b[0;31m                 \u001b[0;32mraise\u001b[0m \u001b[0mKeyError\u001b[0m\u001b[0;34m(\u001b[0m\u001b[0mkey\u001b[0m\u001b[0;34m)\u001b[0m \u001b[0;32mfrom\u001b[0m \u001b[0merr\u001b[0m\u001b[0;34m\u001b[0m\u001b[0;34m\u001b[0m\u001b[0m\n\u001b[0m\u001b[1;32m   3364\u001b[0m \u001b[0;34m\u001b[0m\u001b[0m\n\u001b[1;32m   3365\u001b[0m         \u001b[0;32mif\u001b[0m \u001b[0mis_scalar\u001b[0m\u001b[0;34m(\u001b[0m\u001b[0mkey\u001b[0m\u001b[0;34m)\u001b[0m \u001b[0;32mand\u001b[0m \u001b[0misna\u001b[0m\u001b[0;34m(\u001b[0m\u001b[0mkey\u001b[0m\u001b[0;34m)\u001b[0m \u001b[0;32mand\u001b[0m \u001b[0;32mnot\u001b[0m \u001b[0mself\u001b[0m\u001b[0;34m.\u001b[0m\u001b[0mhasnans\u001b[0m\u001b[0;34m:\u001b[0m\u001b[0;34m\u001b[0m\u001b[0;34m\u001b[0m\u001b[0m\n",
            "\u001b[0;31mKeyError\u001b[0m: 4"
          ]
        }
      ]
    },
    {
      "cell_type": "code",
      "source": [
        "y_test"
      ],
      "metadata": {
        "colab": {
          "base_uri": "https://localhost:8080/",
          "height": 424
        },
        "id": "ieYKBaocmvP-",
        "outputId": "712d5a7d-d2e9-487e-bd3b-8017cdf46542"
      },
      "execution_count": 24,
      "outputs": [
        {
          "output_type": "execute_result",
          "data": {
            "text/plain": [
              "      0  1  2  3\n",
              "1860  1  0  0  0\n",
              "353   0  0  1  0\n",
              "1333  0  1  0  0\n",
              "905   0  0  0  1\n",
              "1289  0  1  0  0\n",
              "...  .. .. .. ..\n",
              "765   1  0  0  0\n",
              "1356  0  1  0  0\n",
              "408   0  0  1  0\n",
              "1614  0  0  0  1\n",
              "694   0  1  0  0\n",
              "\n",
              "[500 rows x 4 columns]"
            ],
            "text/html": [
              "\n",
              "  <div id=\"df-4bf66dd3-a61e-4bcb-976e-8e396094c53c\">\n",
              "    <div class=\"colab-df-container\">\n",
              "      <div>\n",
              "<style scoped>\n",
              "    .dataframe tbody tr th:only-of-type {\n",
              "        vertical-align: middle;\n",
              "    }\n",
              "\n",
              "    .dataframe tbody tr th {\n",
              "        vertical-align: top;\n",
              "    }\n",
              "\n",
              "    .dataframe thead th {\n",
              "        text-align: right;\n",
              "    }\n",
              "</style>\n",
              "<table border=\"1\" class=\"dataframe\">\n",
              "  <thead>\n",
              "    <tr style=\"text-align: right;\">\n",
              "      <th></th>\n",
              "      <th>0</th>\n",
              "      <th>1</th>\n",
              "      <th>2</th>\n",
              "      <th>3</th>\n",
              "    </tr>\n",
              "  </thead>\n",
              "  <tbody>\n",
              "    <tr>\n",
              "      <th>1860</th>\n",
              "      <td>1</td>\n",
              "      <td>0</td>\n",
              "      <td>0</td>\n",
              "      <td>0</td>\n",
              "    </tr>\n",
              "    <tr>\n",
              "      <th>353</th>\n",
              "      <td>0</td>\n",
              "      <td>0</td>\n",
              "      <td>1</td>\n",
              "      <td>0</td>\n",
              "    </tr>\n",
              "    <tr>\n",
              "      <th>1333</th>\n",
              "      <td>0</td>\n",
              "      <td>1</td>\n",
              "      <td>0</td>\n",
              "      <td>0</td>\n",
              "    </tr>\n",
              "    <tr>\n",
              "      <th>905</th>\n",
              "      <td>0</td>\n",
              "      <td>0</td>\n",
              "      <td>0</td>\n",
              "      <td>1</td>\n",
              "    </tr>\n",
              "    <tr>\n",
              "      <th>1289</th>\n",
              "      <td>0</td>\n",
              "      <td>1</td>\n",
              "      <td>0</td>\n",
              "      <td>0</td>\n",
              "    </tr>\n",
              "    <tr>\n",
              "      <th>...</th>\n",
              "      <td>...</td>\n",
              "      <td>...</td>\n",
              "      <td>...</td>\n",
              "      <td>...</td>\n",
              "    </tr>\n",
              "    <tr>\n",
              "      <th>765</th>\n",
              "      <td>1</td>\n",
              "      <td>0</td>\n",
              "      <td>0</td>\n",
              "      <td>0</td>\n",
              "    </tr>\n",
              "    <tr>\n",
              "      <th>1356</th>\n",
              "      <td>0</td>\n",
              "      <td>1</td>\n",
              "      <td>0</td>\n",
              "      <td>0</td>\n",
              "    </tr>\n",
              "    <tr>\n",
              "      <th>408</th>\n",
              "      <td>0</td>\n",
              "      <td>0</td>\n",
              "      <td>1</td>\n",
              "      <td>0</td>\n",
              "    </tr>\n",
              "    <tr>\n",
              "      <th>1614</th>\n",
              "      <td>0</td>\n",
              "      <td>0</td>\n",
              "      <td>0</td>\n",
              "      <td>1</td>\n",
              "    </tr>\n",
              "    <tr>\n",
              "      <th>694</th>\n",
              "      <td>0</td>\n",
              "      <td>1</td>\n",
              "      <td>0</td>\n",
              "      <td>0</td>\n",
              "    </tr>\n",
              "  </tbody>\n",
              "</table>\n",
              "<p>500 rows × 4 columns</p>\n",
              "</div>\n",
              "      <button class=\"colab-df-convert\" onclick=\"convertToInteractive('df-4bf66dd3-a61e-4bcb-976e-8e396094c53c')\"\n",
              "              title=\"Convert this dataframe to an interactive table.\"\n",
              "              style=\"display:none;\">\n",
              "        \n",
              "  <svg xmlns=\"http://www.w3.org/2000/svg\" height=\"24px\"viewBox=\"0 0 24 24\"\n",
              "       width=\"24px\">\n",
              "    <path d=\"M0 0h24v24H0V0z\" fill=\"none\"/>\n",
              "    <path d=\"M18.56 5.44l.94 2.06.94-2.06 2.06-.94-2.06-.94-.94-2.06-.94 2.06-2.06.94zm-11 1L8.5 8.5l.94-2.06 2.06-.94-2.06-.94L8.5 2.5l-.94 2.06-2.06.94zm10 10l.94 2.06.94-2.06 2.06-.94-2.06-.94-.94-2.06-.94 2.06-2.06.94z\"/><path d=\"M17.41 7.96l-1.37-1.37c-.4-.4-.92-.59-1.43-.59-.52 0-1.04.2-1.43.59L10.3 9.45l-7.72 7.72c-.78.78-.78 2.05 0 2.83L4 21.41c.39.39.9.59 1.41.59.51 0 1.02-.2 1.41-.59l7.78-7.78 2.81-2.81c.8-.78.8-2.07 0-2.86zM5.41 20L4 18.59l7.72-7.72 1.47 1.35L5.41 20z\"/>\n",
              "  </svg>\n",
              "      </button>\n",
              "      \n",
              "  <style>\n",
              "    .colab-df-container {\n",
              "      display:flex;\n",
              "      flex-wrap:wrap;\n",
              "      gap: 12px;\n",
              "    }\n",
              "\n",
              "    .colab-df-convert {\n",
              "      background-color: #E8F0FE;\n",
              "      border: none;\n",
              "      border-radius: 50%;\n",
              "      cursor: pointer;\n",
              "      display: none;\n",
              "      fill: #1967D2;\n",
              "      height: 32px;\n",
              "      padding: 0 0 0 0;\n",
              "      width: 32px;\n",
              "    }\n",
              "\n",
              "    .colab-df-convert:hover {\n",
              "      background-color: #E2EBFA;\n",
              "      box-shadow: 0px 1px 2px rgba(60, 64, 67, 0.3), 0px 1px 3px 1px rgba(60, 64, 67, 0.15);\n",
              "      fill: #174EA6;\n",
              "    }\n",
              "\n",
              "    [theme=dark] .colab-df-convert {\n",
              "      background-color: #3B4455;\n",
              "      fill: #D2E3FC;\n",
              "    }\n",
              "\n",
              "    [theme=dark] .colab-df-convert:hover {\n",
              "      background-color: #434B5C;\n",
              "      box-shadow: 0px 1px 3px 1px rgba(0, 0, 0, 0.15);\n",
              "      filter: drop-shadow(0px 1px 2px rgba(0, 0, 0, 0.3));\n",
              "      fill: #FFFFFF;\n",
              "    }\n",
              "  </style>\n",
              "\n",
              "      <script>\n",
              "        const buttonEl =\n",
              "          document.querySelector('#df-4bf66dd3-a61e-4bcb-976e-8e396094c53c button.colab-df-convert');\n",
              "        buttonEl.style.display =\n",
              "          google.colab.kernel.accessAllowed ? 'block' : 'none';\n",
              "\n",
              "        async function convertToInteractive(key) {\n",
              "          const element = document.querySelector('#df-4bf66dd3-a61e-4bcb-976e-8e396094c53c');\n",
              "          const dataTable =\n",
              "            await google.colab.kernel.invokeFunction('convertToInteractive',\n",
              "                                                     [key], {});\n",
              "          if (!dataTable) return;\n",
              "\n",
              "          const docLinkHtml = 'Like what you see? Visit the ' +\n",
              "            '<a target=\"_blank\" href=https://colab.research.google.com/notebooks/data_table.ipynb>data table notebook</a>'\n",
              "            + ' to learn more about interactive tables.';\n",
              "          element.innerHTML = '';\n",
              "          dataTable['output_type'] = 'display_data';\n",
              "          await google.colab.output.renderOutput(dataTable, element);\n",
              "          const docLink = document.createElement('div');\n",
              "          docLink.innerHTML = docLinkHtml;\n",
              "          element.appendChild(docLink);\n",
              "        }\n",
              "      </script>\n",
              "    </div>\n",
              "  </div>\n",
              "  "
            ]
          },
          "metadata": {},
          "execution_count": 24
        }
      ]
    },
    {
      "cell_type": "code",
      "source": [],
      "metadata": {
        "id": "MJ72C3uEmwKe"
      },
      "execution_count": null,
      "outputs": []
    }
  ]
}